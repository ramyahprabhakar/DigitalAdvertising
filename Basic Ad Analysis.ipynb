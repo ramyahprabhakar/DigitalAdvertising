{
 "cells": [
  {
   "cell_type": "code",
   "execution_count": 63,
   "metadata": {},
   "outputs": [],
   "source": [
    "# Basic Ad Analyses\n",
    "## Ramya Prabhakar\n",
    "### This is advertising campaign engagement data from Facebook. Each row is an ad that ran on the platform. \n",
    "### It includes the amount spent on the campaign, and other outcome/engagement data. Here, I do some analyses that tease out \n",
    "### some insights on how to advertise more effectively."
   ]
  },
  {
   "cell_type": "code",
   "execution_count": 64,
   "metadata": {},
   "outputs": [],
   "source": [
    "#import the required packages\n",
    "\n",
    "import pandas as pd\n",
    "import arrow\n",
    "from sklearn import linear_model\n",
    "# import stats models for the reg statistics\n",
    "import statsmodels.api as sm\n",
    "import warnings"
   ]
  },
  {
   "cell_type": "code",
   "execution_count": 65,
   "metadata": {},
   "outputs": [],
   "source": [
    "#ignore warnings\n",
    "warnings.filterwarnings(\"ignore\")"
   ]
  },
  {
   "cell_type": "code",
   "execution_count": 66,
   "metadata": {},
   "outputs": [],
   "source": [
    "# Data uploaded in github\n",
    "# Read the travel pony facebook csv file using pandas\n",
    "df = pd.read_csv('Travel Pony Facebook.csv')"
   ]
  },
  {
   "cell_type": "code",
   "execution_count": 67,
   "metadata": {},
   "outputs": [],
   "source": [
    "# create a new column CPI and calculate the same using amount spent/impressions\n",
    "df['CPI'] = df['Amount Spent (USD)']/df['Impressions']"
   ]
  },
  {
   "cell_type": "code",
   "execution_count": 68,
   "metadata": {},
   "outputs": [],
   "source": [
    "#create an empty list to note down the day of the week\n",
    "dayOfWeek = []"
   ]
  },
  {
   "cell_type": "code",
   "execution_count": 69,
   "metadata": {},
   "outputs": [],
   "source": [
    "#Extract the day of the weeek as a numerical value from the start date field and store it in the list dayOfWeek\n",
    "for i,row in df.iterrows():\n",
    "    dt = arrow.get(row['Start Date'], 'M/D/YY')\n",
    "    x = dt.isoweekday()\n",
    "    dayOfWeek.append(x)"
   ]
  },
  {
   "cell_type": "code",
   "execution_count": 70,
   "metadata": {},
   "outputs": [],
   "source": [
    "#create a new column in the dataframe and store the day of the week corresponding to the date\n",
    "df['dayOfWeek']=pd.Series(dayOfWeek)"
   ]
  },
  {
   "cell_type": "code",
   "execution_count": 71,
   "metadata": {},
   "outputs": [],
   "source": [
    "#Create a pivot table to sum the number of times each day of the week is repeated\n",
    "pivot_dayOfWeek = df.pivot_table(index='dayOfWeek', aggfunc='sum')"
   ]
  },
  {
   "cell_type": "code",
   "execution_count": 72,
   "metadata": {},
   "outputs": [
    {
     "name": "stdout",
     "output_type": "stream",
     "text": [
      "Best day of the week: 6 ;CPI 1.3117197697515264\n",
      "Worst day of the week: 5 ;CPI 2.05663914118258\n"
     ]
    }
   ],
   "source": [
    "#Calculate the best and worst days of the week based on the max and the min CPI    \n",
    "dw=pd.DataFrame(pivot_dayOfWeek,columns=['CPI','dayOfWeek']) \n",
    "print(\"Best day of the week:\",dw['CPI'].idxmin(),\";CPI\",dw['CPI'][dw['CPI'].idxmin()])\n",
    "print(\"Worst day of the week:\",dw['CPI'].idxmax(),\";CPI\",dw['CPI'][dw['CPI'].idxmax()])"
   ]
  },
  {
   "cell_type": "code",
   "execution_count": 73,
   "metadata": {},
   "outputs": [],
   "source": [
    "#compute the correlation between Amount Spent and the following variables:\n",
    "#- Reach\n",
    "#- Frequency \n",
    "#- Unique Clicks\n",
    "#- Page Likes\n",
    "\n",
    "data_corr=df.corr()\n",
    "reach_amtSpent=data_corr['Reach']['Amount Spent (USD)']\n",
    "freq_amtSpent=data_corr['Frequency']['Amount Spent (USD)']\n",
    "unqClicks_amtSpent=data_corr['Unique Clicks']['Amount Spent (USD)']\n",
    "pgLikes_amtSpent=data_corr['Page Likes']['Amount Spent (USD)']\n",
    "\n",
    "data={'variable':['Reach','Frequency','Unique Clicks','Page Likes'],'correlation':[reach_amtSpent,freq_amtSpent,unqClicks_amtSpent,pgLikes_amtSpent]}\n",
    "corr_df=pd.DataFrame(data,columns=['variable','correlation'])"
   ]
  },
  {
   "cell_type": "code",
   "execution_count": 74,
   "metadata": {},
   "outputs": [
    {
     "name": "stdout",
     "output_type": "stream",
     "text": [
      "Amount Spent (USD) has the strongest Correlation with  Unique Clicks = 0.8829931774784341\n"
     ]
    }
   ],
   "source": [
    "# Which correlation is the strongest? What does that mean practically? \n",
    "# (respond in a tweet or less)\n",
    "print(\"Amount Spent (USD) has the strongest Correlation with \",corr_df['variable'][corr_df['correlation'].idxmax()],\"=\",corr_df['correlation'][corr_df['correlation'].idxmax()])\n"
   ]
  },
  {
   "cell_type": "code",
   "execution_count": 75,
   "metadata": {},
   "outputs": [],
   "source": [
    "# Finally, perform a simple multiple regression analysis where \n",
    "# Unique Clicks is the dependent variable and Reach and Frequency are the independent\n",
    "# (predictor) variables.\n",
    "# What variable most strongly predicts unique clicks? \n",
    "# What does that mean practically? (respond in a tweet or less)"
   ]
  },
  {
   "cell_type": "code",
   "execution_count": 76,
   "metadata": {},
   "outputs": [
    {
     "name": "stdout",
     "output_type": "stream",
     "text": [
      "Using Linear_model from sklearn\n",
      "Intercept: \n",
      " 29.227730390224764\n",
      "Coefficients: \n",
      " [ 2.06474936e-03 -2.50632823e+01]\n",
      "[545.46559791 433.95502979 519.77018255 ...   4.39363526   4.45970724\n",
      "  11.70488637]\n",
      " R squared value is  0.534339731180361\n"
     ]
    }
   ],
   "source": [
    "#use the linear_model from sklearn\n",
    "df = pd.read_csv('Travel Pony Facebook.csv')\n",
    "\n",
    "x1=df[['Reach','Frequency']]\n",
    "y1=df['Unique Clicks']\n",
    "regr = linear_model.LinearRegression()\n",
    "regr.fit(x1, y1)\n",
    "\n",
    "print (\"Using Linear_model from sklearn\")\n",
    "print('Intercept: \\n', regr.intercept_)\n",
    "print('Coefficients: \\n', regr.coef_)\n",
    "    \n",
    "#predicted Y for the regression model\n",
    "predictions = regr.predict(x1)\n",
    "print(predictions)\n",
    "\n",
    "# r2 value\n",
    "print(\" R squared value is \", regr.score(x1,y1))"
   ]
  },
  {
   "cell_type": "code",
   "execution_count": 79,
   "metadata": {},
   "outputs": [
    {
     "name": "stdout",
     "output_type": "stream",
     "text": [
      "                            OLS Regression Results                            \n",
      "==============================================================================\n",
      "Dep. Variable:          Unique Clicks   R-squared:                       0.557\n",
      "Model:                            OLS   Adj. R-squared:                  0.556\n",
      "Method:                 Least Squares   F-statistic:                     2325.\n",
      "Date:                Thu, 18 Oct 2018   Prob (F-statistic):               0.00\n",
      "Time:                        14:46:09   Log-Likelihood:                -15973.\n",
      "No. Observations:                3705   AIC:                         3.195e+04\n",
      "Df Residuals:                    3703   BIC:                         3.196e+04\n",
      "Df Model:                           2                                         \n",
      "Covariance Type:            nonrobust                                         \n",
      "==============================================================================\n",
      "                 coef    std err          t      P>|t|      [0.025      0.975]\n",
      "------------------------------------------------------------------------------\n",
      "Reach          0.0019   3.12e-05     62.490      0.000       0.002       0.002\n",
      "Frequency      3.6139      0.298     12.109      0.000       3.029       4.199\n",
      "==============================================================================\n",
      "Omnibus:                     5107.616   Durbin-Watson:                   0.803\n",
      "Prob(Omnibus):                  0.000   Jarque-Bera (JB):          5128392.747\n",
      "Skew:                           7.331   Prob(JB):                         0.00\n",
      "Kurtosis:                     184.674   Cond. No.                     9.84e+03\n",
      "==============================================================================\n",
      "\n",
      "Warnings:\n",
      "[1] Standard Errors assume that the covariance matrix of the errors is correctly specified.\n",
      "[2] The condition number is large, 9.84e+03. This might indicate that there are\n",
      "strong multicollinearity or other numerical problems.\n",
      "\n",
      "The variable Frequency strongly predicts the number of Unique clicks since it has a greater co efficient!\n"
     ]
    }
   ],
   "source": [
    "#now use the statsmodels to confirm the findings\n",
    "      \n",
    "X2 = sm.add_constant(x1)\n",
    "#print (X2)\n",
    "est = sm.OLS(y1, X2)\n",
    "#print (est)\n",
    "est2 = est.fit()\n",
    "#print(est2.summary()) \n",
    "\n",
    "X = df[['Reach', 'Frequency']]\n",
    "y = df['Unique Clicks']\n",
    "model = sm.OLS(y, X).fit()\n",
    "predictions = model.predict(X)\n",
    "print(model.summary())\n",
    "\n",
    "print (\"\\nThe variable Frequency strongly predicts the number of Unique clicks since it has a greater co efficient!\")"
   ]
  }
 ],
 "metadata": {
  "kernelspec": {
   "display_name": "Python 3",
   "language": "python",
   "name": "python3"
  },
  "language_info": {
   "codemirror_mode": {
    "name": "ipython",
    "version": 3
   },
   "file_extension": ".py",
   "mimetype": "text/x-python",
   "name": "python",
   "nbconvert_exporter": "python",
   "pygments_lexer": "ipython3",
   "version": "3.6.5"
  }
 },
 "nbformat": 4,
 "nbformat_minor": 2
}
